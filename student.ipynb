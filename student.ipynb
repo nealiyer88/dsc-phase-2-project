{
 "cells": [
  {
   "cell_type": "markdown",
   "metadata": {},
   "source": [
    "## Film Content Insights\n",
    "\n"
   ]
  },
  {
   "cell_type": "markdown",
   "metadata": {},
   "source": [
    "## Overview\n",
    "\n",
    "This project analyzes current trends in the film industry by examining the performance of different genres at the box office. By investigating various datasets, including Box Office Mojo, IMDB, Rotten Tomatoes, TheMovieDB, and The Numbers, we aim to identify what types of films are currently most successful. This analysis will help in forecasting which film genres hold the most promise for profitability and audience engagement, thus guiding strategic decisions related to film production, marketing, and distribution."
   ]
  },
  {
   "cell_type": "markdown",
   "metadata": {},
   "source": [
    "## Business Problem\n",
    "\n",
    "The film industry is highly competitive and continuously evolving, with varying audience preferences and technological advancements shaping market dynamics. Understanding which film genres are performing well at the box office can enable the newly established movie studio to allocate resources effectively, maximize returns, and expand its market presence. By leveraging detailed box office data, the studio can make informed decisions about which types of films to produce, potentially leading to increased profitability and audience acclaim.\n",
    "\n",
    "<img src=\"https://wallpapercave.com/wp/wp8021237.jpg\" width=\"300\" alt=\"Descriptive Text\">\n"
   ]
  },
  {
   "cell_type": "markdown",
   "metadata": {},
   "source": [
    "## Data Understanding\n",
    "\n",
    "The datasets include a mix of structured data from well-known film databases, covering extensive details about film genres, box office earnings, ratings, and audience feedback across several years. Each film is identified uniquely, allowing for precise tracking of its performance from release to international earnings. This comprehensive data enables an in-depth analysis of market trends, audience preferences, and financial outcomes associated with different film types."
   ]
  },
  {
   "cell_type": "code",
   "execution_count": 1,
   "metadata": {},
   "outputs": [
    {
     "name": "stdout",
     "output_type": "stream",
     "text": [
      "('movie_basics',)\n",
      "('directors',)\n",
      "('known_for',)\n",
      "('movie_akas',)\n",
      "('movie_ratings',)\n",
      "('persons',)\n",
      "('principals',)\n",
      "('writers',)\n"
     ]
    }
   ],
   "source": [
    "import pandas as pd\n",
    "import sqlite3\n",
    "import matplotlib.pyplot as plt\n",
    "import seaborn as sns\n",
    "import zipfile\n",
    "import os\n",
    "\n",
    "# Setting visualisation styles\n",
    "sns.set(style=\"whitegrid\")\n",
    "\n",
    "bom_movie_gross = pd.read_csv(r'C:\\Users\\neali\\Documents\\Flatiron\\2\\phase-2-project-v3\\dsc-phase-2-project-v3\\zippedData\\bom.movie_gross.csv.gz', compression='gzip')\n",
    "\n",
    "# Path to the zip file\n",
    "zip_file_path = r'C:\\Users\\neali\\Documents\\Flatiron\\2\\phase-2-project-v3\\dsc-phase-2-project-v3\\zippedData\\im.db.zip'\n",
    "# Directory where the db file will be extracted\n",
    "extraction_path = r'C:\\Users\\neali\\Documents\\Flatiron\\2\\phase-2-project-v3\\dsc-phase-2-project-v3\\zippedData'\n",
    "\n",
    "# Unzip the database file\n",
    "with zipfile.ZipFile(zip_file_path, 'r') as zip_ref:\n",
    "    # Extract all the contents into the directory\n",
    "    zip_ref.extractall(extraction_path)\n",
    "\n",
    "# Assuming the database file is named 'im.db' and is the only file in the zip\n",
    "db_file_path = os.path.join(extraction_path, 'im.db')\n",
    "\n",
    "# Connect to the SQLite database\n",
    "conn = sqlite3.connect(db_file_path)\n",
    "\n",
    "# Now you can perform database operations\n",
    "# Example: Listing all tables\n",
    "cursor = conn.cursor()\n",
    "cursor.execute(\"SELECT name FROM sqlite_master WHERE type='table';\")\n",
    "tables = cursor.fetchall()\n",
    "for table in tables:\n",
    "    print(table)\n",
    "\n",
    "\n",
    "# Querying data from SQLite database\n",
    "query = \"\"\"\n",
    "SELECT *\n",
    "FROM movie_basics\n",
    "JOIN movie_ratings ON movie_basics.movie_id = movie_ratings.movie_id;\n",
    "\"\"\"\n",
    "movie_data = pd.read_sql_query(query, conn)"
   ]
  },
  {
   "cell_type": "code",
   "execution_count": 2,
   "metadata": {},
   "outputs": [
    {
     "name": "stdout",
     "output_type": "stream",
     "text": [
      "Columns in movie_basics:\n",
      "              name     type\n",
      "0         movie_id     TEXT\n",
      "1    primary_title     TEXT\n",
      "2   original_title     TEXT\n",
      "3       start_year  INTEGER\n",
      "4  runtime_minutes     REAL\n",
      "5           genres     TEXT\n",
      "Columns in movie_ratings:\n",
      "            name     type\n",
      "0       movie_id     TEXT\n",
      "1  averagerating     REAL\n",
      "2       numvotes  INTEGER\n",
      "Columns in movie_akas:\n",
      "                name     type\n",
      "0           movie_id     TEXT\n",
      "1           ordering  INTEGER\n",
      "2              title     TEXT\n",
      "3             region     TEXT\n",
      "4           language     TEXT\n",
      "5              types     TEXT\n",
      "6         attributes     TEXT\n",
      "7  is_original_title     REAL\n"
     ]
    }
   ],
   "source": [
    "#info for Movie Basics\n",
    "query_basics = \"PRAGMA table_info(movie_basics);\"\n",
    "basics_info = pd.read_sql_query(query_basics, conn)\n",
    "print(\"Columns in movie_basics:\")\n",
    "print(basics_info[['name', 'type']])\n",
    "\n",
    "\n",
    "#Table info for Movie_ratings\n",
    "query_basics2 = \"PRAGMA table_info(movie_ratings);\"\n",
    "basics_info = pd.read_sql_query(query_basics2, conn)\n",
    "print(\"Columns in movie_ratings:\")\n",
    "print(basics_info[['name', 'type']])\n",
    "\n",
    "#Tables info for Movie AKAs\n",
    "query_basics3 = \"PRAGMA table_info(movie_akas);\"\n",
    "basics_info = pd.read_sql_query(query_basics3, conn)\n",
    "print(\"Columns in movie_akas:\")\n",
    "print(basics_info[['name', 'type']])"
   ]
  }
 ],
 "metadata": {
  "kernelspec": {
   "display_name": "Python 3",
   "language": "python",
   "name": "python3"
  },
  "language_info": {
   "codemirror_mode": {
    "name": "ipython",
    "version": 3
   },
   "file_extension": ".py",
   "mimetype": "text/x-python",
   "name": "python",
   "nbconvert_exporter": "python",
   "pygments_lexer": "ipython3",
   "version": "3.11.4"
  }
 },
 "nbformat": 4,
 "nbformat_minor": 2
}
